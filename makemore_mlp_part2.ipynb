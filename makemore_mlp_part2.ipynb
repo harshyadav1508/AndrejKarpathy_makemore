{
 "cells": [
  {
   "cell_type": "code",
   "execution_count": 189,
   "id": "ff78a6c4",
   "metadata": {},
   "outputs": [],
   "source": [
    "import torch\n",
    "from torch.nn import functional as F\n",
    "import matplotlib.pyplot as plt\n",
    "%matplotlib inline\n"
   ]
  },
  {
   "cell_type": "code",
   "execution_count": 1,
   "id": "5a4a5218",
   "metadata": {},
   "outputs": [
    {
     "name": "stdout",
     "output_type": "stream",
     "text": [
      "--2024-04-18 18:37:42--  https://raw.githubusercontent.com/karpathy/makemore/master/names.txt\n",
      "Resolving raw.githubusercontent.com (raw.githubusercontent.com)... 185.199.108.133, 185.199.109.133, 185.199.111.133, ...\n",
      "Connecting to raw.githubusercontent.com (raw.githubusercontent.com)|185.199.108.133|:443... connected.\n",
      "HTTP request sent, awaiting response... 200 OK\n",
      "Length: 228145 (223K) [text/plain]\n",
      "Saving to: ‘names.txt’\n",
      "\n",
      "names.txt           100%[===================>] 222.80K   106KB/s    in 2.1s    \n",
      "\n",
      "2024-04-18 18:37:46 (106 KB/s) - ‘names.txt’ saved [228145/228145]\n",
      "\n"
     ]
    }
   ],
   "source": [
    "!wget https://raw.githubusercontent.com/karpathy/makemore/master/names.txt\n"
   ]
  },
  {
   "cell_type": "code",
   "execution_count": 4,
   "id": "c67fedd3",
   "metadata": {},
   "outputs": [
    {
     "data": {
      "text/plain": [
       "['emma', 'olivia', 'ava', 'isabella', 'sophia']"
      ]
     },
     "execution_count": 4,
     "metadata": {},
     "output_type": "execute_result"
    }
   ],
   "source": [
    "with open('/Users/hyadav22/Home/DS/names.txt', 'r') as file:\n",
    "    words = file.read().splitlines()\n",
    "words[:5]"
   ]
  },
  {
   "cell_type": "code",
   "execution_count": 5,
   "id": "8b305ac5",
   "metadata": {},
   "outputs": [
    {
     "data": {
      "text/plain": [
       "32033"
      ]
     },
     "execution_count": 5,
     "metadata": {},
     "output_type": "execute_result"
    }
   ],
   "source": [
    "len(words)"
   ]
  },
  {
   "cell_type": "code",
   "execution_count": 14,
   "id": "40704e47",
   "metadata": {},
   "outputs": [],
   "source": [
    "# building vocab\n",
    "chars = sorted(list(set(''.join(words))))\n",
    "stoi = {s:i+1 for i,s in enumerate(chars)}\n",
    "stoi['.'] = 0\n",
    "itos = {v:k for k,v in stoi.items()}\n"
   ]
  },
  {
   "cell_type": "code",
   "execution_count": 213,
   "id": "c8bd12f7",
   "metadata": {},
   "outputs": [
    {
     "name": "stdout",
     "output_type": "stream",
     "text": [
      "torch.Size([182625, 3]) torch.Size([182625])\n",
      "torch.Size([22655, 3]) torch.Size([22655])\n",
      "torch.Size([22866, 3]) torch.Size([22866])\n"
     ]
    }
   ],
   "source": [
    "# build dataset ffor train, validate, test\n",
    "block_size = 3 # context length: how many characters do we take to predict the next one?\n",
    "\n",
    "def build_dataset(words):  \n",
    "  X, Y = [], []\n",
    "  for w in words:\n",
    "\n",
    "    #print(w)\n",
    "    context = [0] * block_size\n",
    "    for ch in w + '.':\n",
    "      ix = stoi[ch]\n",
    "      X.append(context)\n",
    "      Y.append(ix)\n",
    "      #print(''.join(itos[i] for i in context), '--->', itos[ix])\n",
    "      context = context[1:] + [ix] # crop and append\n",
    "\n",
    "  X = torch.tensor(X)\n",
    "  Y = torch.tensor(Y)\n",
    "  print(X.shape, Y.shape)\n",
    "  return X, Y\n",
    "\n",
    "import random\n",
    "random.seed(42)\n",
    "random.shuffle(words)\n",
    "n1 = int(0.8*len(words))\n",
    "n2 = int(0.9*len(words))\n",
    "\n",
    "Xtr, Ytr = build_dataset(words[:n1])\n",
    "Xdev, Ydev = build_dataset(words[n1:n2])\n",
    "Xte, Yte = build_dataset(words[n2:])"
   ]
  },
  {
   "cell_type": "code",
   "execution_count": 215,
   "id": "e6d9653a",
   "metadata": {},
   "outputs": [
    {
     "data": {
      "text/plain": [
       "(tensor([[ 0,  0,  0],\n",
       "         [ 0,  0, 13],\n",
       "         [ 0, 13, 21],\n",
       "         ...,\n",
       "         [15, 22,  1],\n",
       "         [22,  1, 14],\n",
       "         [ 1, 14,  9]]),\n",
       " tensor([13, 21, 19,  ..., 14,  9,  0]))"
      ]
     },
     "execution_count": 215,
     "metadata": {},
     "output_type": "execute_result"
    }
   ],
   "source": [
    "Xte, Yte"
   ]
  },
  {
   "cell_type": "code",
   "execution_count": 104,
   "id": "ad6228d4",
   "metadata": {},
   "outputs": [
    {
     "data": {
      "text/plain": [
       "(torch.Size([32, 3]), torch.int64, torch.Size([32]), torch.int64)"
      ]
     },
     "execution_count": 104,
     "metadata": {},
     "output_type": "execute_result"
    }
   ],
   "source": [
    "# X.shape, X.dtype, Y.shape, Y.dtype"
   ]
  },
  {
   "cell_type": "code",
   "execution_count": 146,
   "id": "946c2c86",
   "metadata": {},
   "outputs": [
    {
     "data": {
      "text/plain": [
       "(torch.Size([27, 2]),\n",
       " tensor([[ 0.7302,  0.6978],\n",
       "         [-0.4626, -0.6910],\n",
       "         [ 0.5591,  2.4372],\n",
       "         [-0.7123, -0.3307],\n",
       "         [-0.9095,  0.5123],\n",
       "         [-0.8230,  1.5360],\n",
       "         [-0.3133, -1.1720],\n",
       "         [-0.4046,  0.9182],\n",
       "         [-0.3048, -0.3482],\n",
       "         [-0.2112, -0.4758],\n",
       "         [-1.3498, -0.1131],\n",
       "         [-0.2842,  1.2574],\n",
       "         [ 0.0613, -0.0624],\n",
       "         [ 0.8255,  0.1522],\n",
       "         [-1.3038,  0.1018],\n",
       "         [ 1.3786,  1.8476],\n",
       "         [-0.1644, -1.5072],\n",
       "         [-1.4931, -0.4713],\n",
       "         [-0.3975,  0.3550],\n",
       "         [-0.9953,  1.4343],\n",
       "         [ 1.3500, -1.7070],\n",
       "         [ 0.0220,  1.6255],\n",
       "         [-0.6665, -1.4832],\n",
       "         [ 0.2218, -1.1028],\n",
       "         [-1.4638, -1.0262],\n",
       "         [-0.7704,  0.7824],\n",
       "         [ 0.2226,  0.2877]]),\n",
       " tensor([-0.8230,  1.5360]))"
      ]
     },
     "execution_count": 146,
     "metadata": {},
     "output_type": "execute_result"
    }
   ],
   "source": [
    "C = torch.randn(27,2)\n",
    "C.shape, C, C[5]"
   ]
  },
  {
   "cell_type": "code",
   "execution_count": 147,
   "id": "26a29c74",
   "metadata": {},
   "outputs": [
    {
     "name": "stdout",
     "output_type": "stream",
     "text": [
      "tensor([0., 0., 0., 0., 0., 1., 0., 0., 0., 0., 0., 0., 0., 0., 0., 0., 0., 0.,\n",
      "        0., 0., 0., 0., 0., 0., 0., 0., 0.])\n"
     ]
    },
    {
     "data": {
      "text/plain": [
       "torch.Size([27])"
      ]
     },
     "execution_count": 147,
     "metadata": {},
     "output_type": "execute_result"
    }
   ],
   "source": [
    "print(F.one_hot(torch.tensor(5), num_classes=27).float())\n",
    "F.one_hot(torch.tensor(5), num_classes=27).float().shape"
   ]
  },
  {
   "cell_type": "code",
   "execution_count": 148,
   "id": "602c6391",
   "metadata": {},
   "outputs": [
    {
     "data": {
      "text/plain": [
       "tensor([-0.8230,  1.5360])"
      ]
     },
     "execution_count": 148,
     "metadata": {},
     "output_type": "execute_result"
    }
   ],
   "source": [
    "F.one_hot(torch.tensor(5), num_classes=27).float() @ C"
   ]
  },
  {
   "cell_type": "code",
   "execution_count": 149,
   "id": "d03ee706",
   "metadata": {},
   "outputs": [
    {
     "data": {
      "text/plain": [
       "tensor([[[ 0.7302,  0.6978],\n",
       "         [ 0.7302,  0.6978],\n",
       "         [ 0.7302,  0.6978]],\n",
       "\n",
       "        [[ 0.7302,  0.6978],\n",
       "         [ 0.7302,  0.6978],\n",
       "         [-0.8230,  1.5360]],\n",
       "\n",
       "        [[ 0.7302,  0.6978],\n",
       "         [-0.8230,  1.5360],\n",
       "         [ 0.8255,  0.1522]],\n",
       "\n",
       "        ...,\n",
       "\n",
       "        [[ 0.2226,  0.2877],\n",
       "         [ 0.2226,  0.2877],\n",
       "         [-0.7704,  0.7824]],\n",
       "\n",
       "        [[ 0.2226,  0.2877],\n",
       "         [-0.7704,  0.7824],\n",
       "         [ 0.2226,  0.2877]],\n",
       "\n",
       "        [[-0.7704,  0.7824],\n",
       "         [ 0.2226,  0.2877],\n",
       "         [-1.4638, -1.0262]]])"
      ]
     },
     "execution_count": 149,
     "metadata": {},
     "output_type": "execute_result"
    }
   ],
   "source": [
    "C[Xtr]"
   ]
  },
  {
   "cell_type": "code",
   "execution_count": 150,
   "id": "d7ae4a0c",
   "metadata": {},
   "outputs": [
    {
     "data": {
      "text/plain": [
       "torch.Size([228146, 3, 2])"
      ]
     },
     "execution_count": 150,
     "metadata": {},
     "output_type": "execute_result"
    }
   ],
   "source": [
    "C[Xtr].shape"
   ]
  },
  {
   "cell_type": "code",
   "execution_count": 216,
   "id": "06d15714",
   "metadata": {},
   "outputs": [
    {
     "data": {
      "text/plain": [
       "(tensor([-0.3405, -0.4300], grad_fn=<SelectBackward0>), tensor(18))"
      ]
     },
     "execution_count": 216,
     "metadata": {},
     "output_type": "execute_result"
    }
   ],
   "source": [
    "C[1], Xtr[13,2]"
   ]
  },
  {
   "cell_type": "code",
   "execution_count": 217,
   "id": "d1292a54",
   "metadata": {},
   "outputs": [
    {
     "data": {
      "text/plain": [
       "tensor([0.1403, 0.6135], grad_fn=<SelectBackward0>)"
      ]
     },
     "execution_count": 217,
     "metadata": {},
     "output_type": "execute_result"
    }
   ],
   "source": [
    "C[Xtr][13,2]"
   ]
  },
  {
   "cell_type": "code",
   "execution_count": 218,
   "id": "9d7c1a16",
   "metadata": {},
   "outputs": [
    {
     "data": {
      "text/plain": [
       "torch.Size([182625, 3, 2])"
      ]
     },
     "execution_count": 218,
     "metadata": {},
     "output_type": "execute_result"
    }
   ],
   "source": [
    "emb = C[Xtr]\n",
    "emb.shape"
   ]
  },
  {
   "cell_type": "code",
   "execution_count": 154,
   "id": "69c5cd99",
   "metadata": {},
   "outputs": [],
   "source": [
    "W1 = torch.randn((6,100))\n",
    "b1 = torch.randn(100)\n"
   ]
  },
  {
   "cell_type": "code",
   "execution_count": 155,
   "id": "512b5858",
   "metadata": {},
   "outputs": [],
   "source": [
    "# emb @ W1 + b1\n",
    "#  will give error as : mat1 and mat2 shapes cannot be multiplied (48x2 and 6x100)\n"
   ]
  },
  {
   "cell_type": "code",
   "execution_count": 156,
   "id": "4541a7d5",
   "metadata": {},
   "outputs": [
    {
     "data": {
      "text/plain": [
       "tensor([[ 0.7302,  0.6978,  0.7302,  0.6978,  0.7302,  0.6978],\n",
       "        [ 0.7302,  0.6978,  0.7302,  0.6978, -0.8230,  1.5360],\n",
       "        [ 0.7302,  0.6978, -0.8230,  1.5360,  0.8255,  0.1522],\n",
       "        ...,\n",
       "        [ 0.2226,  0.2877,  0.2226,  0.2877, -0.7704,  0.7824],\n",
       "        [ 0.2226,  0.2877, -0.7704,  0.7824,  0.2226,  0.2877],\n",
       "        [-0.7704,  0.7824,  0.2226,  0.2877, -1.4638, -1.0262]])"
      ]
     },
     "execution_count": 156,
     "metadata": {},
     "output_type": "execute_result"
    }
   ],
   "source": [
    "torch.cat([emb[:,0,:], emb[:,1,:], emb[:,2,:]],1)\n",
    "#  not efficient as manually we are passing 3 times emb, if we inc context then it will fail"
   ]
  },
  {
   "cell_type": "code",
   "execution_count": 157,
   "id": "3413772e",
   "metadata": {},
   "outputs": [
    {
     "data": {
      "text/plain": [
       "tensor([[ 0.7302,  0.6978,  0.7302,  0.6978,  0.7302,  0.6978],\n",
       "        [ 0.7302,  0.6978,  0.7302,  0.6978, -0.8230,  1.5360],\n",
       "        [ 0.7302,  0.6978, -0.8230,  1.5360,  0.8255,  0.1522],\n",
       "        ...,\n",
       "        [ 0.2226,  0.2877,  0.2226,  0.2877, -0.7704,  0.7824],\n",
       "        [ 0.2226,  0.2877, -0.7704,  0.7824,  0.2226,  0.2877],\n",
       "        [-0.7704,  0.7824,  0.2226,  0.2877, -1.4638, -1.0262]])"
      ]
     },
     "execution_count": 157,
     "metadata": {},
     "output_type": "execute_result"
    }
   ],
   "source": [
    "\n",
    "torch.cat( torch.unbind(emb,1),1)\n",
    "\n"
   ]
  },
  {
   "cell_type": "code",
   "execution_count": 158,
   "id": "ea963dd4",
   "metadata": {},
   "outputs": [],
   "source": [
    "h = torch.tanh(emb.view(-1,6) @ W1 + b1)\n"
   ]
  },
  {
   "cell_type": "code",
   "execution_count": 159,
   "id": "6b4a8470",
   "metadata": {},
   "outputs": [
    {
     "data": {
      "text/plain": [
       "torch.Size([228146, 100])"
      ]
     },
     "execution_count": 159,
     "metadata": {},
     "output_type": "execute_result"
    }
   ],
   "source": [
    "h.shape"
   ]
  },
  {
   "cell_type": "code",
   "execution_count": 160,
   "id": "407c56c9",
   "metadata": {},
   "outputs": [
    {
     "name": "stdout",
     "output_type": "stream",
     "text": [
      "torch.Size([228146, 27])\n"
     ]
    },
    {
     "data": {
      "text/plain": [
       "(torch.Size([228146, 27]),\n",
       " tensor([[2.7254e-08, 7.9451e-14, 7.0653e-06,  ..., 9.8577e-01, 1.1982e-12,\n",
       "          7.0498e-12],\n",
       "         [3.1926e-06, 1.9334e-09, 5.9751e-09,  ..., 1.9065e-05, 1.8435e-09,\n",
       "          5.3679e-09],\n",
       "         [5.8895e-12, 2.4141e-13, 1.7724e-10,  ..., 9.4017e-01, 6.5472e-14,\n",
       "          2.3805e-10],\n",
       "         ...,\n",
       "         [3.0132e-02, 2.3097e-08, 3.9181e-06,  ..., 2.5983e-03, 6.0201e-07,\n",
       "          6.6150e-05],\n",
       "         [1.9872e-08, 1.6639e-11, 4.3603e-08,  ..., 1.4734e-01, 5.0616e-10,\n",
       "          1.4162e-08],\n",
       "         [3.7546e-11, 6.5464e-14, 6.8993e-07,  ..., 5.2911e-09, 9.7246e-13,\n",
       "          9.9999e-01]]))"
      ]
     },
     "execution_count": 160,
     "metadata": {},
     "output_type": "execute_result"
    }
   ],
   "source": [
    "W2 = torch.randn((100,27))\n",
    "b2 = torch.randn(27)\n",
    "\n",
    "logits = h @ W2 +b2\n",
    "\n",
    "print(logits.shape)\n",
    "\n",
    "counts = logits.exp()\n",
    "\n",
    "prob = counts/counts.sum(1, keepdims=True)\n",
    "\n",
    "prob.shape, prob"
   ]
  },
  {
   "cell_type": "code",
   "execution_count": 163,
   "id": "6ed27173",
   "metadata": {},
   "outputs": [
    {
     "data": {
      "text/plain": [
       "tensor(18.4360)"
      ]
     },
     "execution_count": 163,
     "metadata": {},
     "output_type": "execute_result"
    }
   ],
   "source": [
    "loss = -prob[torch.arange(228146), Y].log().mean()\n",
    "loss"
   ]
  },
  {
   "cell_type": "code",
   "execution_count": 286,
   "id": "da541b1e",
   "metadata": {},
   "outputs": [
    {
     "name": "stdout",
     "output_type": "stream",
     "text": [
      "torch.Size([182625, 3])\n",
      "torch.Size([182625])\n"
     ]
    }
   ],
   "source": [
    "# summary\n",
    "\n",
    "# weights\n",
    "print(Xtr.shape), print(Ytr.shape)\n",
    "\n",
    "g = torch.Generator().manual_seed(2147483647) # for reproducibility\n",
    "\n",
    "C = torch.randn((27,10), generator=g)\n",
    "W1 = torch.randn((30,200))\n",
    "b1 = torch.randn(200)\n",
    "W2 = torch.randn((200,27))\n",
    "b2 = torch.randn(27)\n",
    "param = [C, W1, b1, W2, b2]"
   ]
  },
  {
   "cell_type": "code",
   "execution_count": 287,
   "id": "3f888ce0",
   "metadata": {},
   "outputs": [
    {
     "data": {
      "text/plain": [
       "11897"
      ]
     },
     "execution_count": 287,
     "metadata": {},
     "output_type": "execute_result"
    }
   ],
   "source": [
    "sum(p.nelement() for p in param)"
   ]
  },
  {
   "cell_type": "code",
   "execution_count": 288,
   "id": "994a73be",
   "metadata": {},
   "outputs": [],
   "source": [
    "for p in param:  \n",
    "    p.requires_grad = True "
   ]
  },
  {
   "cell_type": "code",
   "execution_count": 289,
   "id": "48a1880b",
   "metadata": {},
   "outputs": [],
   "source": [
    "lre = torch.linspace(-3,0,1000)\n",
    "lrs = 10**lre"
   ]
  },
  {
   "cell_type": "code",
   "execution_count": 290,
   "id": "daf4b61c",
   "metadata": {},
   "outputs": [],
   "source": [
    "lri = []\n",
    "lossi = []\n",
    "stepi = []"
   ]
  },
  {
   "cell_type": "code",
   "execution_count": 302,
   "id": "519d286f",
   "metadata": {},
   "outputs": [
    {
     "name": "stdout",
     "output_type": "stream",
     "text": [
      "2.1490354537963867\n"
     ]
    }
   ],
   "source": [
    "\n",
    "\n",
    "for i in range(50000): \n",
    "    ix = torch.randint(0, Xtr.shape[0], (32,))\n",
    "    \n",
    "    # frwrd pass\n",
    "    emb = C[Xtr[ix]]\n",
    "    h = torch.tanh(emb.view(-1, 30) @ W1 +b1)\n",
    "    logits = h @ W2 +b2\n",
    "    loss = F.cross_entropy(logits, Ytr[ix])\n",
    "#     print(loss.item())\n",
    "\n",
    "\n",
    "    # bckwrd pass\n",
    "    for p in param:\n",
    "        p.grad = None\n",
    "    loss.backward()\n",
    "\n",
    "    # update weight\n",
    "    lr = 0.01\n",
    "    for p in param:\n",
    "        p.data += -lr * p.grad\n",
    "        \n",
    "#     track status\n",
    "    lossi.append(loss.log10().item()), stepi.append(i)\n",
    "        \n",
    "print(loss.item())\n",
    "        \n"
   ]
  },
  {
   "cell_type": "code",
   "execution_count": 303,
   "id": "8cca1653",
   "metadata": {},
   "outputs": [
    {
     "data": {
      "text/plain": [
       "[<matplotlib.lines.Line2D at 0x12954cf50>]"
      ]
     },
     "execution_count": 303,
     "metadata": {},
     "output_type": "execute_result"
    },
    {
     "data": {
      "image/png": "[encoded data removed]",
      "text/plain": [
       "<Figure size 640x480 with 1 Axes>"
      ]
     },
     "metadata": {},
     "output_type": "display_data"
    }
   ],
   "source": [
    "plt.plot(stepi, lossi)"
   ]
  },
  {
   "cell_type": "code",
   "execution_count": 304,
   "id": "45a13ab1",
   "metadata": {},
   "outputs": [
    {
     "name": "stdout",
     "output_type": "stream",
     "text": [
      "2.16630220413208\n"
     ]
    }
   ],
   "source": [
    "emb = C[Xtr]\n",
    "h = torch.tanh(emb.view(-1, 30) @ W1 +b1)\n",
    "logits = h @ W2 +b2\n",
    "loss = F.cross_entropy(logits, Ytr)\n",
    "print(loss.item())"
   ]
  },
  {
   "cell_type": "code",
   "execution_count": 305,
   "id": "1e0e04d4",
   "metadata": {},
   "outputs": [
    {
     "name": "stdout",
     "output_type": "stream",
     "text": [
      "2.203640937805176\n"
     ]
    }
   ],
   "source": [
    "emb = C[Xdev]\n",
    "h = torch.tanh(emb.view(-1, 30) @ W1 +b1)\n",
    "logits = h @ W2 +b2\n",
    "loss = F.cross_entropy(logits, Ydev)\n",
    "print(loss.item())"
   ]
  },
  {
   "cell_type": "code",
   "execution_count": 297,
   "id": "b290bc0f",
   "metadata": {},
   "outputs": [
    {
     "data": {
      "image/png": "[encoded data removed]",
      "text/plain": [
       "<Figure size 800x800 with 1 Axes>"
      ]
     },
     "metadata": {},
     "output_type": "display_data"
    }
   ],
   "source": [
    "# visualize dimensions 0 and 1 of the embedding matrix C for all characters\n",
    "plt.figure(figsize=(8,8))\n",
    "plt.scatter(C[:,0].data, C[:,1].data, s=200)\n",
    "for i in range(C.shape[0]):\n",
    "    plt.text(C[i,0].item(), C[i,1].item(), itos[i], ha=\"center\", va=\"center\", color='white')\n",
    "plt.grid('minor')"
   ]
  },
  {
   "cell_type": "code",
   "execution_count": 306,
   "id": "62558915",
   "metadata": {},
   "outputs": [
    {
     "name": "stdout",
     "output_type": "stream",
     "text": [
      "mona.\n",
      "mayah.\n",
      "see.\n",
      "med.\n",
      "rylle.\n",
      "emmaniendramir.\n",
      "zery.\n",
      "meliighly.\n",
      "jen.\n",
      "eden.\n",
      "eson.\n",
      "araylyn.\n",
      "malque.\n",
      "noshdanrishimies.\n",
      "kinton.\n",
      "kyrinnterowi.\n",
      "brence.\n",
      "ryyah.\n",
      "faeh.\n",
      "yuma.\n"
     ]
    }
   ],
   "source": [
    "# sample from the model\n",
    "g = torch.Generator().manual_seed(2147483647 + 10)\n",
    "\n",
    "for _ in range(20):\n",
    "    \n",
    "    out = []\n",
    "    context = [0] * block_size # initialize with all ...\n",
    "    while True:\n",
    "      emb = C[torch.tensor([context])] # (1,block_size,d)\n",
    "      h = torch.tanh(emb.view(1, -1) @ W1 + b1)\n",
    "      logits = h @ W2 + b2\n",
    "      probs = F.softmax(logits, dim=1)\n",
    "      ix = torch.multinomial(probs, num_samples=1, generator=g).item()\n",
    "      context = context[1:] + [ix]\n",
    "      out.append(ix)\n",
    "      if ix == 0:\n",
    "        break\n",
    "    \n",
    "    print(''.join(itos[i] for i in out))"
   ]
  },
  {
   "cell_type": "code",
   "execution_count": null,
   "id": "d313a4ac",
   "metadata": {},
   "outputs": [],
   "source": []
  }
 ],
 "metadata": {
  "kernelspec": {
   "display_name": "Python 3 (ipykernel)",
   "language": "python",
   "name": "python3"
  },
  "language_info": {
   "codemirror_mode": {
    "name": "ipython",
    "version": 3
   },
   "file_extension": ".py",
   "mimetype": "text/x-python",
   "name": "python",
   "nbconvert_exporter": "python",
   "pygments_lexer": "ipython3",
   "version": "3.11.5"
  }
 },
 "nbformat": 4,
 "nbformat_minor": 5
}
